{
 "cells": [
  {
   "cell_type": "code",
   "execution_count": 2,
   "id": "b930241f",
   "metadata": {},
   "outputs": [
    {
     "data": {
      "text/html": [
       "\n",
       "                <div id=\"midiPlayerDiv453\"></div>\n",
       "                <link rel=\"stylesheet\" href=\"//cuthbertLab.github.io/music21j/css/m21.css\"\n",
       "                    type=\"text/css\" />\n",
       "                \n",
       "                <script>\n",
       "                require.config({\n",
       "                    paths: {'music21': '//cuthbertLab.github.io/music21j/src/music21'}\n",
       "                });\n",
       "                require(['music21'], function() {\n",
       "                               mp = new music21.miditools.MidiPlayer();\n",
       "                               mp.addPlayer(\"#midiPlayerDiv453\");\n",
       "                               mp.base64Load(\"data:audio/midi;base64,TVRoZAAAAAYAAQACBABNVHJrAAAAFAD/UQMHoSAA/1gEBAIYCIgA/y8ATVRyawAAAIYA/wMAAOAAQADAAIgAkExaAJBNWgCQSloAkBpaiACATAAAgE0AAIBKAACAGgAAkE1aAJBPWgCQTVoAkBpaiACATQAAgE8AAIBNAACAGgAAkEpaAJBKWgCQTVoAkBxaiACASgAAgEoAAIBNAACAHAAAkBpaiACAGgAAkB1aiACAHQCIAP8vAA==\");\n",
       "                        });\n",
       "                </script>"
      ],
      "text/plain": [
       "<IPython.core.display.HTML object>"
      ]
     },
     "metadata": {},
     "output_type": "display_data"
    }
   ],
   "source": [
    "from music21 import *\n",
    "\n",
    "'''\n",
    "Program that plays random chords with notes\n",
    "'''\n",
    "\n",
    "n11 = ['D', 'D', 'E', 'D', 'F']\n",
    "\n",
    "s = stream.Stream()\n",
    "for i in range (0,len(n11)):\n",
    "    s.append(note.Note(n11[i]+'1'))\n",
    "    \n",
    "\n",
    "\n",
    "n11 = ['E5 F5 D5', 'F5 G5 F5', 'D5 D5 F5']\n",
    "\n",
    "s1 = stream.Stream()\n",
    "for i in range (0,len(n11)):\n",
    "    s1.append(chord.Chord(n11[i]))\n",
    "    \n",
    "def EmbedSound(path):\n",
    "    mf = midi.MidiFile()\n",
    "    mf.open(path) \n",
    "    mf.read()\n",
    "    mf.close()\n",
    "    s1 = midi.translate.midiFileToStream(mf)\n",
    "    s1.show('midi')\n",
    "    \n",
    "# The name of the file\n",
    "\n",
    "s2 = s1+s\n",
    "\n",
    "fileName = 'test4.midi'\n",
    "\n",
    "s2.write('midi', fp=fileName)\n",
    "\n",
    "EmbedSound(fileName)"
   ]
  },
  {
   "cell_type": "code",
   "execution_count": null,
   "id": "77933f16",
   "metadata": {},
   "outputs": [],
   "source": []
  }
 ],
 "metadata": {
  "kernelspec": {
   "display_name": "Python 3 (ipykernel)",
   "language": "python",
   "name": "python3"
  },
  "language_info": {
   "codemirror_mode": {
    "name": "ipython",
    "version": 3
   },
   "file_extension": ".py",
   "mimetype": "text/x-python",
   "name": "python",
   "nbconvert_exporter": "python",
   "pygments_lexer": "ipython3",
   "version": "3.11.0"
  }
 },
 "nbformat": 4,
 "nbformat_minor": 5
}
