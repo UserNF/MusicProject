{
 "cells": [
  {
   "cell_type": "markdown",
   "id": "f4e760ae",
   "metadata": {},
   "source": []
  },
  {
   "cell_type": "code",
   "execution_count": 3,
   "id": "6c414f43",
   "metadata": {},
   "outputs": [
    {
     "name": "stdout",
     "output_type": "stream",
     "text": [
      "  0 11  7  8  3  1  2 10  6  5  4  9\n",
      "  1  0  8  9  4  2  3 11  7  6  5 10\n",
      "  5  4  0  1  8  6  7  3 11 10  9  2\n",
      "  4  3 11  0  7  5  6  2 10  9  8  1\n",
      "  9  8  4  5  0 10 11  7  3  2  1  6\n",
      " 11 10  6  7  2  0  1  9  5  4  3  8\n",
      " 10  9  5  6  1 11  0  8  4  3  2  7\n",
      "  2  1  9 10  5  3  4  0  8  7  6 11\n",
      "  6  5  1  2  9  7  8  4  0 11 10  3\n",
      "  7  6  2  3 10  8  9  5  1  0 11  4\n",
      "  8  7  3  4 11  9 10  6  2  1  0  5\n",
      "  3  2 10 11  6  4  5  1  9  8  7  0\n"
     ]
    }
   ],
   "source": [
    "print (serial.rowToMatrix([2,1,9,10,5,3,4,0,8,7,6,11]) )"
   ]
  },
  {
   "cell_type": "code",
   "execution_count": 4,
   "id": "1e9e720f",
   "metadata": {},
   "outputs": [
    {
     "ename": "FileNotFoundError",
     "evalue": "Cannot find file in /users/cuthbert/docs/composition.krn",
     "output_type": "error",
     "traceback": [
      "\u001b[1;31m---------------------------------------------------------------------------\u001b[0m",
      "\u001b[1;31mFileNotFoundError\u001b[0m                         Traceback (most recent call last)",
      "Cell \u001b[1;32mIn [4], line 1\u001b[0m\n\u001b[1;32m----> 1\u001b[0m converter\u001b[38;5;241m.\u001b[39mparse(\u001b[38;5;124m'\u001b[39m\u001b[38;5;124m/users/cuthbert/docs/composition.krn\u001b[39m\u001b[38;5;124m'\u001b[39m)\u001b[38;5;241m.\u001b[39mwrite(\u001b[38;5;124m'\u001b[39m\u001b[38;5;124mmusicxml\u001b[39m\u001b[38;5;124m'\u001b[39m)\n",
      "File \u001b[1;32mc:\\users\\noah campbell\\appdata\\local\\programs\\python\\python38\\lib\\site-packages\\music21\\converter\\__init__.py:1312\u001b[0m, in \u001b[0;36mparse\u001b[1;34m(value, forceSource, number, format, **keywords)\u001b[0m\n\u001b[0;32m   1309\u001b[0m     \u001b[38;5;28;01mraise\u001b[39;00m \u001b[38;5;167;01mFileNotFoundError\u001b[39;00m(\u001b[38;5;124mf\u001b[39m\u001b[38;5;124m'\u001b[39m\u001b[38;5;124mCannot find file in \u001b[39m\u001b[38;5;132;01m{\u001b[39;00m\u001b[38;5;28mstr\u001b[39m(value)\u001b[38;5;132;01m}\u001b[39;00m\u001b[38;5;124m'\u001b[39m)\n\u001b[0;32m   1310\u001b[0m \u001b[38;5;28;01melif\u001b[39;00m \u001b[38;5;28misinstance\u001b[39m(value, \u001b[38;5;28mstr\u001b[39m) \u001b[38;5;129;01mand\u001b[39;00m common\u001b[38;5;241m.\u001b[39mfindFormatFile(value) \u001b[38;5;129;01mis\u001b[39;00m \u001b[38;5;129;01mnot\u001b[39;00m \u001b[38;5;28;01mNone\u001b[39;00m:\n\u001b[0;32m   1311\u001b[0m     \u001b[38;5;66;03m# assume mistyped file path\u001b[39;00m\n\u001b[1;32m-> 1312\u001b[0m     \u001b[38;5;28;01mraise\u001b[39;00m \u001b[38;5;167;01mFileNotFoundError\u001b[39;00m(\u001b[38;5;124mf\u001b[39m\u001b[38;5;124m'\u001b[39m\u001b[38;5;124mCannot find file in \u001b[39m\u001b[38;5;132;01m{\u001b[39;00m\u001b[38;5;28mstr\u001b[39m(value)\u001b[38;5;132;01m}\u001b[39;00m\u001b[38;5;124m'\u001b[39m)\n\u001b[0;32m   1313\u001b[0m \u001b[38;5;28;01melse\u001b[39;00m:\n\u001b[0;32m   1314\u001b[0m     \u001b[38;5;66;03m# all else, including MidiBytes\u001b[39;00m\n\u001b[0;32m   1315\u001b[0m     \u001b[38;5;28;01mreturn\u001b[39;00m parseData(value, number\u001b[38;5;241m=\u001b[39mnumber, \u001b[38;5;28mformat\u001b[39m\u001b[38;5;241m=\u001b[39m\u001b[38;5;28mformat\u001b[39m, \u001b[38;5;241m*\u001b[39m\u001b[38;5;241m*\u001b[39mkeywords)\n",
      "\u001b[1;31mFileNotFoundError\u001b[0m: Cannot find file in /users/cuthbert/docs/composition.krn"
     ]
    }
   ],
   "source": [
    "converter.parse('/users/cuthbert/docs/composition.krn').write('musicxml')"
   ]
  },
  {
   "cell_type": "code",
   "execution_count": 5,
   "id": "69f5f3ae",
   "metadata": {},
   "outputs": [
    {
     "name": "stdout",
     "output_type": "stream",
     "text": [
      "<class 'music21.converter.subConverters.ConverterABC'>\n",
      "<class 'music21.converter.subConverters.ConverterBraille'>\n",
      "<class 'music21.converter.subConverters.ConverterCapella'>\n",
      "<class 'music21.converter.subConverters.ConverterClercqTemperley'>\n",
      "<class 'music21.converter.subConverters.ConverterHumdrum'>\n",
      "<class 'music21.converter.subConverters.ConverterIPython'>\n",
      "<class 'music21.converter.subConverters.ConverterLilypond'>\n",
      "<class 'music21.converter.subConverters.ConverterMEI'>\n",
      "<class 'music21.converter.subConverters.ConverterMidi'>\n",
      "<class 'music21.converter.subConverters.ConverterMuseData'>\n",
      "<class 'music21.converter.subConverters.ConverterMusicXML'>\n",
      "<class 'music21.converter.subConverters.ConverterNoteworthy'>\n",
      "<class 'music21.converter.subConverters.ConverterNoteworthyBinary'>\n",
      "<class 'music21.converter.subConverters.ConverterRomanText'>\n",
      "<class 'music21.converter.subConverters.ConverterScala'>\n",
      "<class 'music21.converter.subConverters.ConverterText'>\n",
      "<class 'music21.converter.subConverters.ConverterTextLine'>\n",
      "<class 'music21.converter.subConverters.ConverterTinyNotation'>\n",
      "<class 'music21.converter.subConverters.ConverterVexflow'>\n",
      "<class 'music21.converter.subConverters.ConverterVolpiano'>\n",
      "<class 'music21.converter.subConverters.SubConverter'>\n"
     ]
    }
   ],
   "source": [
    "c = converter.Converter()\n",
    "for sc in c.defaultSubconverters():\n",
    "    print(sc)"
   ]
  },
  {
   "cell_type": "code",
   "execution_count": 6,
   "id": "8e4adcb1",
   "metadata": {},
   "outputs": [],
   "source": [
    "from music21 import note, stream"
   ]
  },
  {
   "cell_type": "code",
   "execution_count": 7,
   "id": "6347e372",
   "metadata": {},
   "outputs": [
    {
     "ename": "OSError",
     "evalue": "[WinError 123] The filename, directory name, or volume label syntax is incorrect: 'C:\\\\Users\\\\Noah Campbell\\\\Downloads\\\\C:\\\\Program Files\\\\MuseScore 3\\\\MuseScore.exe'",
     "output_type": "error",
     "traceback": [
      "\u001b[1;31m---------------------------------------------------------------------------\u001b[0m",
      "\u001b[1;31mOSError\u001b[0m                                   Traceback (most recent call last)",
      "Cell \u001b[1;32mIn [7], line 2\u001b[0m\n\u001b[0;32m      1\u001b[0m n1 \u001b[38;5;241m=\u001b[39m note\u001b[38;5;241m.\u001b[39mNote(\u001b[38;5;124m'\u001b[39m\u001b[38;5;124mC4\u001b[39m\u001b[38;5;124m'\u001b[39m)\n\u001b[1;32m----> 2\u001b[0m n1\u001b[38;5;241m.\u001b[39mshow()\n",
      "File \u001b[1;32mc:\\users\\noah campbell\\appdata\\local\\programs\\python\\python38\\lib\\site-packages\\music21\\base.py:2888\u001b[0m, in \u001b[0;36mMusic21Object.show\u001b[1;34m(self, fmt, app, **keywords)\u001b[0m\n\u001b[0;32m   2886\u001b[0m scClass \u001b[38;5;241m=\u001b[39m common\u001b[38;5;241m.\u001b[39mfindSubConverterForFormat(regularizedConverterFormat)\n\u001b[0;32m   2887\u001b[0m formatWriter \u001b[38;5;241m=\u001b[39m scClass()\n\u001b[1;32m-> 2888\u001b[0m \u001b[38;5;28;01mreturn\u001b[39;00m \u001b[43mformatWriter\u001b[49m\u001b[38;5;241;43m.\u001b[39;49m\u001b[43mshow\u001b[49m\u001b[43m(\u001b[49m\u001b[38;5;28;43mself\u001b[39;49m\u001b[43m,\u001b[49m\n\u001b[0;32m   2889\u001b[0m \u001b[43m                         \u001b[49m\u001b[43mregularizedConverterFormat\u001b[49m\u001b[43m,\u001b[49m\n\u001b[0;32m   2890\u001b[0m \u001b[43m                         \u001b[49m\u001b[43mapp\u001b[49m\u001b[38;5;241;43m=\u001b[39;49m\u001b[43mapp\u001b[49m\u001b[43m,\u001b[49m\n\u001b[0;32m   2891\u001b[0m \u001b[43m                         \u001b[49m\u001b[43msubformats\u001b[49m\u001b[38;5;241;43m=\u001b[39;49m\u001b[43msubformats\u001b[49m\u001b[43m,\u001b[49m\n\u001b[0;32m   2892\u001b[0m \u001b[43m                         \u001b[49m\u001b[38;5;241;43m*\u001b[39;49m\u001b[38;5;241;43m*\u001b[39;49m\u001b[43mkeywords\u001b[49m\u001b[43m)\u001b[49m\n",
      "File \u001b[1;32mc:\\users\\noah campbell\\appdata\\local\\programs\\python\\python38\\lib\\site-packages\\music21\\converter\\subConverters.py:395\u001b[0m, in \u001b[0;36mConverterIPython.show\u001b[1;34m(self, obj, fmt, app, subformats, **keywords)\u001b[0m\n\u001b[0;32m    392\u001b[0m     scores \u001b[38;5;241m=\u001b[39m \u001b[38;5;28mlist\u001b[39m(obj\u001b[38;5;241m.\u001b[39mscores)\n\u001b[0;32m    394\u001b[0m \u001b[38;5;28;01mfor\u001b[39;00m s \u001b[38;5;129;01min\u001b[39;00m scores:\n\u001b[1;32m--> 395\u001b[0m     fp \u001b[38;5;241m=\u001b[39m \u001b[43mhelperSubConverter\u001b[49m\u001b[38;5;241;43m.\u001b[39;49m\u001b[43mwrite\u001b[49m\u001b[43m(\u001b[49m\u001b[43ms\u001b[49m\u001b[43m,\u001b[49m\n\u001b[0;32m    396\u001b[0m \u001b[43m                                  \u001b[49m\u001b[43mhelperFormat\u001b[49m\u001b[43m,\u001b[49m\n\u001b[0;32m    397\u001b[0m \u001b[43m                                  \u001b[49m\u001b[43msubformats\u001b[49m\u001b[38;5;241;43m=\u001b[39;49m\u001b[43mhelperSubformats\u001b[49m\u001b[43m,\u001b[49m\n\u001b[0;32m    398\u001b[0m \u001b[43m                                  \u001b[49m\u001b[38;5;241;43m*\u001b[39;49m\u001b[38;5;241;43m*\u001b[39;49m\u001b[43mkeywords\u001b[49m\n\u001b[0;32m    399\u001b[0m \u001b[43m                                  \u001b[49m\u001b[43m)\u001b[49m\n\u001b[0;32m    401\u001b[0m     \u001b[38;5;28;01mif\u001b[39;00m helperSubformats[\u001b[38;5;241m0\u001b[39m] \u001b[38;5;241m==\u001b[39m \u001b[38;5;124m'\u001b[39m\u001b[38;5;124mpng\u001b[39m\u001b[38;5;124m'\u001b[39m:\n\u001b[0;32m    402\u001b[0m         \u001b[38;5;28;01mif\u001b[39;00m \u001b[38;5;129;01mnot\u001b[39;00m \u001b[38;5;28mstr\u001b[39m(environLocal[\u001b[38;5;124m'\u001b[39m\u001b[38;5;124mmusescoreDirectPNGPath\u001b[39m\u001b[38;5;124m'\u001b[39m])\u001b[38;5;241m.\u001b[39mstartswith(\u001b[38;5;124m'\u001b[39m\u001b[38;5;124m/skip\u001b[39m\u001b[38;5;124m'\u001b[39m):\n",
      "File \u001b[1;32mc:\\users\\noah campbell\\appdata\\local\\programs\\python\\python38\\lib\\site-packages\\music21\\converter\\subConverters.py:1138\u001b[0m, in \u001b[0;36mConverterMusicXML.write\u001b[1;34m(self, obj, fmt, fp, subformats, makeNotation, compress, **keywords)\u001b[0m\n\u001b[0;32m   1133\u001b[0m     defaults\u001b[38;5;241m.\u001b[39mauthor \u001b[38;5;241m=\u001b[39m savedDefaultAuthor\n\u001b[0;32m   1135\u001b[0m \u001b[38;5;28;01mif\u001b[39;00m (subformats \u001b[38;5;129;01mis\u001b[39;00m \u001b[38;5;129;01mnot\u001b[39;00m \u001b[38;5;28;01mNone\u001b[39;00m\n\u001b[0;32m   1136\u001b[0m         \u001b[38;5;129;01mand\u001b[39;00m (\u001b[38;5;124m'\u001b[39m\u001b[38;5;124mpng\u001b[39m\u001b[38;5;124m'\u001b[39m \u001b[38;5;129;01min\u001b[39;00m subformats \u001b[38;5;129;01mor\u001b[39;00m \u001b[38;5;124m'\u001b[39m\u001b[38;5;124mpdf\u001b[39m\u001b[38;5;124m'\u001b[39m \u001b[38;5;129;01min\u001b[39;00m subformats)\n\u001b[0;32m   1137\u001b[0m         \u001b[38;5;129;01mand\u001b[39;00m \u001b[38;5;129;01mnot\u001b[39;00m \u001b[38;5;28mstr\u001b[39m(environLocal[\u001b[38;5;124m'\u001b[39m\u001b[38;5;124mmusescoreDirectPNGPath\u001b[39m\u001b[38;5;124m'\u001b[39m])\u001b[38;5;241m.\u001b[39mstartswith(\u001b[38;5;124m'\u001b[39m\u001b[38;5;124m/skip\u001b[39m\u001b[38;5;124m'\u001b[39m)):\n\u001b[1;32m-> 1138\u001b[0m     outFp \u001b[38;5;241m=\u001b[39m \u001b[38;5;28;43mself\u001b[39;49m\u001b[38;5;241;43m.\u001b[39;49m\u001b[43mrunThroughMusescore\u001b[49m\u001b[43m(\u001b[49m\u001b[43mxmlFp\u001b[49m\u001b[43m,\u001b[49m\u001b[43m \u001b[49m\u001b[43msubformats\u001b[49m\u001b[43m,\u001b[49m\u001b[43m \u001b[49m\u001b[38;5;241;43m*\u001b[39;49m\u001b[38;5;241;43m*\u001b[39;49m\u001b[43mkeywords\u001b[49m\u001b[43m)\u001b[49m\n\u001b[0;32m   1139\u001b[0m \u001b[38;5;28;01melif\u001b[39;00m compress:\n\u001b[0;32m   1140\u001b[0m     archiveTools\u001b[38;5;241m.\u001b[39mcompressXML(xmlFp,\n\u001b[0;32m   1141\u001b[0m                              deleteOriginal\u001b[38;5;241m=\u001b[39m\u001b[38;5;28;01mTrue\u001b[39;00m,\n\u001b[0;32m   1142\u001b[0m                              silent\u001b[38;5;241m=\u001b[39m\u001b[38;5;28;01mTrue\u001b[39;00m,\n\u001b[0;32m   1143\u001b[0m                              strictMxlCheck\u001b[38;5;241m=\u001b[39m\u001b[38;5;28;01mFalse\u001b[39;00m)\n",
      "File \u001b[1;32mc:\\users\\noah campbell\\appdata\\local\\programs\\python\\python38\\lib\\site-packages\\music21\\converter\\subConverters.py:971\u001b[0m, in \u001b[0;36mConverterMusicXML.runThroughMusescore\u001b[1;34m(self, fp, subformats, dpi, **keywords)\u001b[0m\n\u001b[0;32m    967\u001b[0m \u001b[38;5;28;01mif\u001b[39;00m \u001b[38;5;129;01mnot\u001b[39;00m musescorePath:\n\u001b[0;32m    968\u001b[0m     \u001b[38;5;28;01mraise\u001b[39;00m SubConverterException(\n\u001b[0;32m    969\u001b[0m         \u001b[38;5;124m'\u001b[39m\u001b[38;5;124mTo create PNG files directly from MusicXML you need to download MuseScore and \u001b[39m\u001b[38;5;124m'\u001b[39m\n\u001b[0;32m    970\u001b[0m         \u001b[38;5;241m+\u001b[39m \u001b[38;5;124m'\u001b[39m\u001b[38;5;124mput a link to it in your .music21rc via Environment.\u001b[39m\u001b[38;5;124m'\u001b[39m)\n\u001b[1;32m--> 971\u001b[0m \u001b[38;5;28;01mif\u001b[39;00m \u001b[38;5;129;01mnot\u001b[39;00m \u001b[43mmusescorePath\u001b[49m\u001b[38;5;241;43m.\u001b[39;49m\u001b[43mexists\u001b[49m\u001b[43m(\u001b[49m\u001b[43m)\u001b[49m:\n\u001b[0;32m    972\u001b[0m     \u001b[38;5;28;01mraise\u001b[39;00m SubConverterException(\n\u001b[0;32m    973\u001b[0m         \u001b[38;5;124m\"\u001b[39m\u001b[38;5;124mCannot find a path to the \u001b[39m\u001b[38;5;124m'\u001b[39m\u001b[38;5;124mmscore\u001b[39m\u001b[38;5;124m'\u001b[39m\u001b[38;5;124m file at \u001b[39m\u001b[38;5;124m\"\u001b[39m\n\u001b[0;32m    974\u001b[0m         \u001b[38;5;241m+\u001b[39m \u001b[38;5;124mf\u001b[39m\u001b[38;5;124m'\u001b[39m\u001b[38;5;132;01m{\u001b[39;00mmusescorePath\u001b[38;5;132;01m}\u001b[39;00m\u001b[38;5;124m -- download MuseScore\u001b[39m\u001b[38;5;124m'\u001b[39m)\n\u001b[0;32m    976\u001b[0m \u001b[38;5;28;01mif\u001b[39;00m subformats \u001b[38;5;129;01mis\u001b[39;00m \u001b[38;5;28;01mNone\u001b[39;00m:\n",
      "File \u001b[1;32mc:\\users\\noah campbell\\appdata\\local\\programs\\python\\python38\\lib\\pathlib.py:1370\u001b[0m, in \u001b[0;36mPath.exists\u001b[1;34m(self)\u001b[0m\n\u001b[0;32m   1366\u001b[0m \u001b[38;5;124;03m\"\"\"\u001b[39;00m\n\u001b[0;32m   1367\u001b[0m \u001b[38;5;124;03mWhether this path exists.\u001b[39;00m\n\u001b[0;32m   1368\u001b[0m \u001b[38;5;124;03m\"\"\"\u001b[39;00m\n\u001b[0;32m   1369\u001b[0m \u001b[38;5;28;01mtry\u001b[39;00m:\n\u001b[1;32m-> 1370\u001b[0m     \u001b[38;5;28;43mself\u001b[39;49m\u001b[38;5;241;43m.\u001b[39;49m\u001b[43mstat\u001b[49m\u001b[43m(\u001b[49m\u001b[43m)\u001b[49m\n\u001b[0;32m   1371\u001b[0m \u001b[38;5;28;01mexcept\u001b[39;00m \u001b[38;5;167;01mOSError\u001b[39;00m \u001b[38;5;28;01mas\u001b[39;00m e:\n\u001b[0;32m   1372\u001b[0m     \u001b[38;5;28;01mif\u001b[39;00m \u001b[38;5;129;01mnot\u001b[39;00m _ignore_error(e):\n",
      "File \u001b[1;32mc:\\users\\noah campbell\\appdata\\local\\programs\\python\\python38\\lib\\pathlib.py:1176\u001b[0m, in \u001b[0;36mPath.stat\u001b[1;34m(self)\u001b[0m\n\u001b[0;32m   1171\u001b[0m \u001b[38;5;28;01mdef\u001b[39;00m \u001b[38;5;21mstat\u001b[39m(\u001b[38;5;28mself\u001b[39m):\n\u001b[0;32m   1172\u001b[0m     \u001b[38;5;124;03m\"\"\"\u001b[39;00m\n\u001b[0;32m   1173\u001b[0m \u001b[38;5;124;03m    Return the result of the stat() system call on this path, like\u001b[39;00m\n\u001b[0;32m   1174\u001b[0m \u001b[38;5;124;03m    os.stat() does.\u001b[39;00m\n\u001b[0;32m   1175\u001b[0m \u001b[38;5;124;03m    \"\"\"\u001b[39;00m\n\u001b[1;32m-> 1176\u001b[0m     \u001b[38;5;28;01mreturn\u001b[39;00m \u001b[38;5;28;43mself\u001b[39;49m\u001b[38;5;241;43m.\u001b[39;49m\u001b[43m_accessor\u001b[49m\u001b[38;5;241;43m.\u001b[39;49m\u001b[43mstat\u001b[49m\u001b[43m(\u001b[49m\u001b[38;5;28;43mself\u001b[39;49m\u001b[43m)\u001b[49m\n",
      "\u001b[1;31mOSError\u001b[0m: [WinError 123] The filename, directory name, or volume label syntax is incorrect: 'C:\\\\Users\\\\Noah Campbell\\\\Downloads\\\\C:\\\\Program Files\\\\MuseScore 3\\\\MuseScore.exe'"
     ]
    }
   ],
   "source": [
    "n1 = note.Note('C4')\n",
    "n1.show()"
   ]
  },
  {
   "cell_type": "code",
   "execution_count": 8,
   "id": "b5090e82",
   "metadata": {},
   "outputs": [
    {
     "ename": "SyntaxError",
     "evalue": "(unicode error) 'unicodeescape' codec can't decode bytes in position 2-3: truncated \\UXXXXXXXX escape (2251173025.py, line 1)",
     "output_type": "error",
     "traceback": [
      "\u001b[1;36m  Cell \u001b[1;32mIn [8], line 1\u001b[1;36m\u001b[0m\n\u001b[1;33m    environment.set (\"musescoreDirectPNGPath\", \"C:\\Users\\Noah Campbell\\OneDrive - Frostburg State University\\Documents\\MuseScore3\")\u001b[0m\n\u001b[1;37m                                               ^\u001b[0m\n\u001b[1;31mSyntaxError\u001b[0m\u001b[1;31m:\u001b[0m (unicode error) 'unicodeescape' codec can't decode bytes in position 2-3: truncated \\UXXXXXXXX escape\n"
     ]
    }
   ],
   "source": [
    "environment.set (\"musescoreDirectPNGPath\", \"C:\\Users\\Noah Campbell\\OneDrive - Frostburg State University\\Documents\\MuseScore3\")"
   ]
  },
  {
   "cell_type": "code",
   "execution_count": 9,
   "id": "4cd616b7",
   "metadata": {},
   "outputs": [
    {
     "ename": "SyntaxError",
     "evalue": "(unicode error) 'unicodeescape' codec can't decode bytes in position 0-1: truncated \\UXXXXXXXX escape (3354079365.py, line 1)",
     "output_type": "error",
     "traceback": [
      "\u001b[1;36m  Cell \u001b[1;32mIn [9], line 1\u001b[1;36m\u001b[0m\n\u001b[1;33m    environment.set (\"musescoreDirectPNGPath\", \"\\Users\\Noah Campbell\\OneDrive - Frostburg State University\\Documents\\MuseScore3\")\u001b[0m\n\u001b[1;37m                                               ^\u001b[0m\n\u001b[1;31mSyntaxError\u001b[0m\u001b[1;31m:\u001b[0m (unicode error) 'unicodeescape' codec can't decode bytes in position 0-1: truncated \\UXXXXXXXX escape\n"
     ]
    }
   ],
   "source": [
    "environment.set (\"musescoreDirectPNGPath\", \"\\Users\\Noah Campbell\\OneDrive - Frostburg State University\\Documents\\MuseScore3\")"
   ]
  },
  {
   "cell_type": "code",
   "execution_count": 12,
   "id": "b7a4e42b",
   "metadata": {},
   "outputs": [
    {
     "data": {
      "text/plain": [
       "'test01.midi'"
      ]
     },
     "execution_count": 12,
     "metadata": {},
     "output_type": "execute_result"
    }
   ],
   "source": [
    "v #n1 gets note value C4\n",
    "\n",
    "n2 = note.Note('C5') #n5 gets note value C5\n",
    "\n",
    "s = stream.Stream() #s is where music info gets added\n",
    "s.append(n1)        #n1 is added to the midi file\n",
    "s.append(n2)        #n2 is added to the midi file\n",
    "\n",
    "s.write('midi', fp='test01.midi') "
   ]
  },
  {
   "cell_type": "code",
   "execution_count": 15,
   "id": "51cdf102",
   "metadata": {},
   "outputs": [],
   "source": [
    "n1.quarterLength = .5 #change duration note plays"
   ]
  },
  {
   "cell_type": "code",
   "execution_count": 48,
   "id": "cd287a37",
   "metadata": {},
   "outputs": [
    {
     "data": {
      "text/plain": [
       "'test.midi'"
      ]
     },
     "execution_count": 48,
     "metadata": {},
     "output_type": "execute_result"
    }
   ],
   "source": [
    "from music21 import *\n",
    "import numpy as tg\n",
    "from IPython.display import Audio\n",
    "\n",
    "# This program generates notes from C5-C6 on keyboard\n",
    "\n",
    "n2 = [note.Note('F5'), note.Note('A5'), note.Note('C5'), note.Note('F6'), note.Note('A5'), \n",
    "      note.Note('C5'), note.Note('F5'), note.Note('A5')]\n",
    "\n",
    "s = stream.Stream()\n",
    "\n",
    "def CheckDuration():\n",
    "    n2[len(n2)-1] = duration.Duration(2)\n",
    "    canChangeDuration = False;\n",
    "    for i in range(0,len(n2)): # Check if duration is 2\n",
    "        if n2[i] == duration.Duration(2):\n",
    "            s.append(chord.Chord('C'+str(i)+' E'+str(i)+ ' G5'+str(i)))\n",
    "        else:\n",
    "            s.append(n2[i])\n",
    "            \n",
    "def ChordLoop(min, max):\n",
    "    for i in range(min,max): #Loops through all notes in 'n2' and puts in stream to be written to midi file\n",
    "        s.append(chord.Chord('C'+str(i)+' E'+str(i)+ ' G5'+str(i)))\n",
    "        \n",
    "def NoteLoop(pitch, duration, traversal):\n",
    "    for i in range(pitch[0],pitch[1]): #Loops through all notes in 'n2' and puts in stream to be written to midi file\n",
    "        n3 = note.Note('C5')\n",
    "        n3.storedInstrument = instrument.Violin()\n",
    "        n3 = ['C', 'D', 'E', 'F', 'G', 'A', 'B']\n",
    "        for j in range(0,len(n3),traversal[0]):\n",
    "            s.append(note.Note(n3[j]+str(i), quarterLength = duration[0]))\n",
    "        if j == len(n3)-1:\n",
    "            s.append(note.Note(n3[0]+str(i+1)))\n",
    "            for k in range(len(n3)-1,0,-traversal[1]):\n",
    "                s.append(note.Note(n3[k]+str(i), quarterLength = duration[1]))\n",
    "                \n",
    "# My project is based on generating music based on user input\n",
    "# User decides what songs they want to choose from\n",
    "# So as you know each song has individual notes that are played\n",
    "# This program creates individual notes into a midi file sequentially\n",
    "# That midi file is basically the song that you can listen two\n",
    "\n",
    "# Traversal\n",
    "traversal = [9,1] # Values to traverse through notes on a scale\n",
    "\n",
    "# Duration\n",
    "duration = [.5,.7] # High durations like 2 or 3 play notes for longer and shorter durations like .5 or .3 play eac\n",
    "\n",
    "# Pitch\n",
    "lowPitch = [2,4]\n",
    "medPitch = [5,7]\n",
    "highPitch = [7,8] \n",
    "            \n",
    "\n",
    "NoteLoop(medPitch, duration, traversal) \n",
    "\n",
    "\n",
    "s.write('midi', fp='test.midi') # Midi file has default piano sound\n"
   ]
  },
  {
   "cell_type": "markdown",
   "id": "0dcbd1a3",
   "metadata": {},
   "source": []
  },
  {
   "cell_type": "code",
   "execution_count": 32,
   "id": "26ce13ef",
   "metadata": {},
   "outputs": [
    {
     "data": {
      "text/plain": [
       "'test8.midi'"
      ]
     },
     "execution_count": 32,
     "metadata": {},
     "output_type": "execute_result"
    }
   ],
   "source": [
    "from music21 import *\n",
    "up2 = note.Unpitched()\n",
    "up2.storedInstrument = instrument.Violin()\n",
    "s = stream.Stream()\n",
    "s.append(up2)\n",
    "\n",
    "myChord = [chord.Chord('C5 E5 G5'), chord.Chord('C5 F5 A5'), chord.Chord('C5 E5 G5'), \n",
    "           chord.Chord('C5 D5 F5'), chord.Chord('C5 E5 G5')]\n",
    "\n",
    "for i in range(0,len(myChord)):\n",
    "    s.append(myChord[i])\n",
    "\n",
    "s2 = instrument.unbundleInstruments(s)\n",
    "\n",
    "s2.write('midi', fp='test8.midi') # Midi file has default piano sound"
   ]
  },
  {
   "cell_type": "code",
   "execution_count": null,
   "id": "4a6ab076",
   "metadata": {},
   "outputs": [],
   "source": []
  },
  {
   "cell_type": "code",
   "execution_count": 3,
   "id": "3f2f43d6",
   "metadata": {},
   "outputs": [],
   "source": []
  },
  {
   "cell_type": "code",
   "execution_count": null,
   "id": "a3ae49fa",
   "metadata": {},
   "outputs": [],
   "source": []
  },
  {
   "cell_type": "code",
   "execution_count": null,
   "id": "fc9a4899",
   "metadata": {},
   "outputs": [],
   "source": []
  }
 ],
 "metadata": {
  "kernelspec": {
   "display_name": "Python 3 (ipykernel)",
   "language": "python",
   "name": "python3"
  },
  "language_info": {
   "codemirror_mode": {
    "name": "ipython",
    "version": 3
   },
   "file_extension": ".py",
   "mimetype": "text/x-python",
   "name": "python",
   "nbconvert_exporter": "python",
   "pygments_lexer": "ipython3",
   "version": "3.11.0"
  }
 },
 "nbformat": 4,
 "nbformat_minor": 5
}
