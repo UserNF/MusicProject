{
 "cells": [
  {
   "cell_type": "markdown",
   "id": "f4e760ae",
   "metadata": {},
   "source": []
  },
  {
   "cell_type": "code",
   "execution_count": 3,
   "id": "6c414f43",
   "metadata": {},
   "outputs": [
    {
     "name": "stdout",
     "output_type": "stream",
     "text": [
      "  0 11  7  8  3  1  2 10  6  5  4  9\n",
      "  1  0  8  9  4  2  3 11  7  6  5 10\n",
      "  5  4  0  1  8  6  7  3 11 10  9  2\n",
      "  4  3 11  0  7  5  6  2 10  9  8  1\n",
      "  9  8  4  5  0 10 11  7  3  2  1  6\n",
      " 11 10  6  7  2  0  1  9  5  4  3  8\n",
      " 10  9  5  6  1 11  0  8  4  3  2  7\n",
      "  2  1  9 10  5  3  4  0  8  7  6 11\n",
      "  6  5  1  2  9  7  8  4  0 11 10  3\n",
      "  7  6  2  3 10  8  9  5  1  0 11  4\n",
      "  8  7  3  4 11  9 10  6  2  1  0  5\n",
      "  3  2 10 11  6  4  5  1  9  8  7  0\n"
     ]
    }
   ],
   "source": [
    "print (serial.rowToMatrix([2,1,9,10,5,3,4,0,8,7,6,11]) )"
   ]
  },
  {
   "cell_type": "code",
   "execution_count": 12,
   "id": "b7a4e42b",
   "metadata": {},
   "outputs": [
    {
     "data": {
      "text/plain": [
       "'test01.midi'"
      ]
     },
     "execution_count": 12,
     "metadata": {},
     "output_type": "execute_result"
    }
   ],
   "source": [
    "# Creates simple music file\n",
    "v #n1 gets note value C4\n",
    "\n",
    "n2 = note.Note('C5') #n5 gets note value C5\n",
    "\n",
    "s = stream.Stream() #s is where music info gets added\n",
    "s.append(n1)        #n1 is added to the midi file\n",
    "s.append(n2)        #n2 is added to the midi file\n",
    "\n",
    "s.write('midi', fp='test01.midi') "
   ]
  },
  {
   "cell_type": "code",
   "execution_count": 15,
   "id": "51cdf102",
   "metadata": {},
   "outputs": [],
   "source": [
    "n1.quarterLength = .5 #change duration note plays"
   ]
  },
  {
   "cell_type": "code",
   "execution_count": 24,
   "id": "cd287a37",
   "metadata": {},
   "outputs": [
    {
     "name": "stdout",
     "output_type": "stream",
     "text": [
      "Music file of test0.midi:\n"
     ]
    },
    {
     "data": {
      "text/html": [
       "\n",
       "                <div id=\"midiPlayerDiv12922\"></div>\n",
       "                <link rel=\"stylesheet\" href=\"//cuthbertLab.github.io/music21j/css/m21.css\"\n",
       "                    type=\"text/css\" />\n",
       "                \n",
       "                <script>\n",
       "                require.config({\n",
       "                    paths: {'music21': '//cuthbertLab.github.io/music21j/src/music21'}\n",
       "                });\n",
       "                require(['music21'], function() {\n",
       "                               mp = new music21.miditools.MidiPlayer();\n",
       "                               mp.addPlayer(\"#midiPlayerDiv12922\");\n",
       "                               mp.base64Load(\"data:audio/midi;base64,TVRoZAAAAAYAAQACBABNVHJrAAAAFAD/UQMHoSAA/1gEBAIYCIgA/y8ATVRyawAAAVoA/wMAAOAAQADAAIgAkFRahACAVAAAkFlahACAWQAAkF9ahACAXwAAkF1ahACAXQAAkFZahACAVgAAkFRahgCAVAAAkFZahgCAVgAAkFZahSuAVgAAkF9ahSqQXVoBgF8AhSqAXQAAkFlahSuAWQAAkFhahSqQX1oBgFgAhSqAXwAAkF1ahgCAXQAAkFtahgCAWwAAkFlahgCAWQAAkFhahgCAWAAAkFZahSuAVgAAkGBaglWQZVqBK4BgAIEqgGUAglaQa1qCVZBpWoErgGsAgSqAaQCCVpBiWoJVkGBagSuAYgCEVYBgAACQYlqGAIBiAACQYlqGAIBiAACQa1qGAIBrAACQaVqFK4BpAACQZVqFKpBkWgGAZQCFKoBkAACQa1qFK4BrAACQaVqFKpBnWgGAaQCFKoBnAACQZVqGAIBlAACQZFqGAIBkAACQYlqFK4BiAIgA/y8A\");\n",
       "                        });\n",
       "                </script>"
      ],
      "text/plain": [
       "<IPython.core.display.HTML object>"
      ]
     },
     "metadata": {},
     "output_type": "display_data"
    },
    {
     "data": {
      "text/plain": [
       "'\\n1.) Decide Instrument\\n\\n2.) Notes that can be added and rate the sound based on rating use bits and pieces of that favored \\n    song and combine with nonfavorable songs to get new melody and do this process iteratively\\n'"
      ]
     },
     "execution_count": 24,
     "metadata": {},
     "output_type": "execute_result"
    }
   ],
   "source": [
    "from music21 import *\n",
    "import numpy as tg\n",
    "from IPython.display import Audio\n",
    "\n",
    "'''\n",
    "The project is based on generating music based on user input\n",
    "User decides what songs they want to choose from\n",
    "So as you know each song has individual notes that are played\n",
    "This program creates individual notes into a midi file sequentially\n",
    "That midi file is basically the song that you can listen two\n",
    "'''\n",
    "\n",
    "\n",
    "n2 = [note.Note('F5'), note.Note('A5'), note.Note('C5'), note.Note('F6'), note.Note('A5'), \n",
    "      note.Note('C5'), note.Note('F5'), note.Note('A5')]\n",
    "\n",
    "s = stream.Stream()\n",
    "\n",
    "def CheckDuration():\n",
    "    n2[len(n2)-1] = duration.Duration(2)\n",
    "    canChangeDuration = False;\n",
    "    for i in range(0,len(n2)): # Check if duration is 2\n",
    "        if n2[i] == duration.Duration(2):\n",
    "            s.append(chord.Chord('C'+str(i)+' E'+str(i)+ ' G5'+str(i)))\n",
    "        else:\n",
    "            s.append(n2[i])\n",
    "            \n",
    "def ChordLoop(min, max):\n",
    "    for i in range(min,max): #Loops through all notes in 'n2' and puts in stream to be written to midi file\n",
    "        s.append(chord.Chord('C'+str(i)+' E'+str(i)+ ' G5'+str(i)))\n",
    "        \n",
    "def NoteLoop(pitch, duration, traversal):\n",
    "    for i in range(pitch[0],pitch[1]): #Loops through all notes in 'n2' and puts in stream to be written to midi file\n",
    "        n3 = note.Note('C5')\n",
    "        n3.storedInstrument = instrument.Violin()\n",
    "        n3 = ['C', 'D', 'E', 'F', 'G', 'A', 'B',\n",
    "              'B', 'A', 'G', 'F', 'E', 'D', 'C']\n",
    "        for j in range(0,len(n3),traversal[0]):\n",
    "            s.append(note.Note(n3[j]+str(i), quarterLength = duration[0]))\n",
    "        \n",
    "        if n3 == note.Note('C2'): # condition to check for c notes \"if c note then append another note\"\n",
    "            print(\"C det\")\n",
    "        else:\n",
    "            if j == len(n3)-1:\n",
    "                s.append(note.Note(n3[0]+str(i+1)))\n",
    "            for k in range(len(n3)-1,0,-traversal[1]):\n",
    "                s.append(note.Note(n3[k]+str(i), quarterLength = duration[1]))\n",
    "            \n",
    "\n",
    "def EmbedSound(path):\n",
    "    mf = midi.MidiFile()\n",
    "    mf.open(path) \n",
    "    mf.read()\n",
    "    mf.close()\n",
    "    s = midi.translate.midiFileToStream(mf)\n",
    "    s.show('midi')\n",
    "    \n",
    "# Traversal\n",
    "traversal = [3,1] # Values to traverse through notes on a scale\n",
    "\n",
    "# Duration\n",
    "duration = [.5,.7] # High durations like 2 or 3 play notes for longer and shorter durations like .5 or .3 play eac\n",
    "\n",
    "# Pitch\n",
    "lowPitch = [2,4]\n",
    "medPitch = [6,8]\n",
    "highPitch = [7,8] \n",
    "            \n",
    "NoteLoop(medPitch, duration, traversal) \n",
    "\n",
    "fileName = 'test0.midi'\n",
    "\n",
    "print(\"Music file of \"+fileName+\":\")\n",
    "s.write('midi', fp=fileName) # Midi file has default piano sound\n",
    "\n",
    "EmbedSound(fileName)\n",
    "\n",
    "\n",
    "'''\n",
    "1.) Decide Instrument\n",
    "\n",
    "2.) Notes that can be added and rate the sound based on rating use bits and pieces of that favored \n",
    "    song and combine with nonfavorable songs to get new melody and do this process iteratively\n",
    "'''\n",
    "# Use chords that erica had\n",
    "#Make condition that use ericas chords whenever a specific note is played\n",
    "# Working on making existing"
   ]
  },
  {
   "cell_type": "markdown",
   "id": "0dcbd1a3",
   "metadata": {},
   "source": []
  },
  {
   "cell_type": "code",
   "execution_count": 32,
   "id": "26ce13ef",
   "metadata": {},
   "outputs": [
    {
     "data": {
      "text/plain": [
       "'test8.midi'"
      ]
     },
     "execution_count": 32,
     "metadata": {},
     "output_type": "execute_result"
    }
   ],
   "source": [
    "from music21 import *\n",
    "up2 = note.Unpitched()\n",
    "up2.storedInstrument = instrument.Violin()\n",
    "s = stream.Stream()\n",
    "s.append(up2)\n",
    "\n",
    "myChord = [chord.Chord('C5 E5 G5'), chord.Chord('C5 F5 A5'), chord.Chord('C5 E5 G5'), \n",
    "           chord.Chord('C5 D5 F5'), chord.Chord('C5 E5 G5')]\n",
    "\n",
    "for i in range(0,len(myChord)):\n",
    "    s.append(myChord[i])\n",
    "\n",
    "s2 = instrument.unbundleInstruments(s)\n",
    "\n",
    "s2.write('midi', fp='test8.midi') # Midi file has default piano sound"
   ]
  },
  {
   "cell_type": "code",
   "execution_count": 9,
   "id": "4a6ab076",
   "metadata": {},
   "outputs": [
    {
     "data": {
      "text/html": [
       "\n",
       "                <div id=\"midiPlayerDiv4619\"></div>\n",
       "                <link rel=\"stylesheet\" href=\"//cuthbertLab.github.io/music21j/css/m21.css\"\n",
       "                    type=\"text/css\" />\n",
       "                \n",
       "                <script>\n",
       "                require.config({\n",
       "                    paths: {'music21': '//cuthbertLab.github.io/music21j/src/music21'}\n",
       "                });\n",
       "                require(['music21'], function() {\n",
       "                               mp = new music21.miditools.MidiPlayer();\n",
       "                               mp.addPlayer(\"#midiPlayerDiv4619\");\n",
       "                               mp.base64Load(\"data:audio/midi;base64,TVRoZAAAAAYAAQACBABNVHJrAAAAFAD/UQMHoSAA/1gEBAIYCIgA/y8ATVRyawAAAH0A/wMAAOAAQADAAIgAkE5aiACATgAAkEhaiACASAAAkEpaiACASgAAkExaiACATAAAkE5aiACATgAAkE1aiACATQAAkE5aiACATgAAkE9aiACATwAAkFFaiACAUQAAkFNaiACAUwAAkE5aiACATgAAkEhaiACASACIAP8vAA==\");\n",
       "                        });\n",
       "                </script>"
      ],
      "text/plain": [
       "<IPython.core.display.HTML object>"
      ]
     },
     "metadata": {},
     "output_type": "display_data"
    },
    {
     "data": {
      "text/plain": [
       "'test.midi'"
      ]
     },
     "execution_count": 9,
     "metadata": {},
     "output_type": "execute_result"
    }
   ],
   "source": [
    "from music21 import *\n",
    "'''\n",
    "README:\n",
    "These are the fixes to code. \n",
    "There also seems to be a way to embed the created files once you run the code.\n",
    "'''\n",
    "n2=[note.Note('F4'),note.Note('F4'),note.Note('G#4'),note.Note('G#4'),note.Note('A4'),note.Note('B4')]\n",
    "s= stream.Stream()\n",
    "\n",
    "for i in range (0,len(n2)):\n",
    "    if n2[i]==note.Note('F4'):\n",
    "        s.append(chord.Chord('F6 D6 B6'))\n",
    "    elif n2[i]==note.Note('F#4'):\n",
    "        s.append(chord.Chord('F#6 D#6 B#6'))\n",
    "    elif n2[i]==note.Note('G4'):\n",
    "        s.append(chord.Chord('G6 E6 C6'))\n",
    "    elif n2[i]==note.Note('G#4'):\n",
    "        s.append(chord.Chord('G#6 E#6 C#6'))\n",
    "    elif n2[i]==note.Note('A4'):\n",
    "        s.append(chord.Chord('G6 E6 C6'))\n",
    "    elif n2[i]==note.Note('B4'):\n",
    "        s.append(chord.Chord('G6 E6 C6'))\n",
    "    else:\n",
    "        s.append(n2[i])\n",
    "\n",
    "# Creates music file in jupyter so you don't have to go back in forth in files\n",
    "def EmbedSound(path):\n",
    "    mf = midi.MidiFile()\n",
    "    mf.open(path) \n",
    "    mf.read()\n",
    "    mf.close()\n",
    "    s = midi.translate.midiFileToStream(mf)\n",
    "    s.show('midi')\n",
    "    \n",
    "# The name of the file\n",
    "fileName = 'test.midi'\n",
    "\n",
    "EmbedSound(fileName)\n",
    "s.write('midi', fp=fileName)\n",
    "       "
   ]
  },
  {
   "cell_type": "code",
   "execution_count": 38,
   "id": "3f2f43d6",
   "metadata": {},
   "outputs": [
    {
     "ename": "TypeError",
     "evalue": "'str' object is not callable",
     "output_type": "error",
     "traceback": [
      "\u001b[1;31m---------------------------------------------------------------------------\u001b[0m",
      "\u001b[1;31mTypeError\u001b[0m                                 Traceback (most recent call last)",
      "Cell \u001b[1;32mIn [38], line 10\u001b[0m\n\u001b[0;32m      6\u001b[0m count \u001b[38;5;241m=\u001b[39m \u001b[38;5;241m0\u001b[39m\n\u001b[0;32m      8\u001b[0m s \u001b[38;5;241m=\u001b[39m stream\u001b[38;5;241m.\u001b[39mStream()\n\u001b[1;32m---> 10\u001b[0m \u001b[38;5;28;01mfor\u001b[39;00m i \u001b[38;5;129;01min\u001b[39;00m \u001b[38;5;28;43mrange\u001b[39;49m\u001b[43m(\u001b[49m\u001b[38;5;241;43m0\u001b[39;49m\u001b[43m,\u001b[49m\u001b[43m \u001b[49m\u001b[38;5;28;43mlen\u001b[39;49m\u001b[43m(\u001b[49m\u001b[43mn10\u001b[49m\u001b[43m)\u001b[49m\u001b[43m)\u001b[49m:\n\u001b[0;32m     11\u001b[0m     \u001b[38;5;28;01mfor\u001b[39;00m j \u001b[38;5;129;01min\u001b[39;00m \u001b[38;5;28mrange\u001b[39m(\u001b[38;5;241m0\u001b[39m, \u001b[38;5;28mlen\u001b[39m(gMaj)):\n\u001b[0;32m     12\u001b[0m         \u001b[38;5;28;01mif\u001b[39;00m n10[i] \u001b[38;5;241m==\u001b[39m gMaj[j]:\n",
      "\u001b[1;31mTypeError\u001b[0m: 'str' object is not callable"
     ]
    }
   ],
   "source": []
  },
  {
   "cell_type": "code",
   "execution_count": 22,
   "id": "a3ae49fa",
   "metadata": {},
   "outputs": [
    {
     "name": "stdout",
     "output_type": "stream",
     "text": [
      "Note =C\n",
      "Note =F\n",
      "Note =G\n",
      "Note =C\n"
     ]
    },
    {
     "data": {
      "text/html": [
       "\n",
       "                <div id=\"midiPlayerDiv11158\"></div>\n",
       "                <link rel=\"stylesheet\" href=\"//cuthbertLab.github.io/music21j/css/m21.css\"\n",
       "                    type=\"text/css\" />\n",
       "                \n",
       "                <script>\n",
       "                require.config({\n",
       "                    paths: {'music21': '//cuthbertLab.github.io/music21j/src/music21'}\n",
       "                });\n",
       "                require(['music21'], function() {\n",
       "                               mp = new music21.miditools.MidiPlayer();\n",
       "                               mp.addPlayer(\"#midiPlayerDiv11158\");\n",
       "                               mp.base64Load(\"data:audio/midi;base64,TVRoZAAAAAYAAQACBABNVHJrAAAAFAD/UQMHoSAA/1gEBAIYCIgA/y8ATVRyawAAAH0A/wMAAOAAQADAAIgAkElaiACASQAAkEhaiACASAAAkEpaiACASgAAkExaiACATAAAkE5aiACATgAAkE1aiACATQAAkFBaiACAUAAAkE9aiACATwAAkFFaiACAUQAAkFNaiACAUwAAkElaiACASQAAkEhaiACASACIAP8vAA==\");\n",
       "                        });\n",
       "                </script>"
      ],
      "text/plain": [
       "<IPython.core.display.HTML object>"
      ]
     },
     "metadata": {},
     "output_type": "display_data"
    }
   ],
   "source": [
    "from music21 import *\n",
    "\n",
    "n10 = ['C', 'D', 'E', 'F', 'G', \n",
    "      'A', 'B', 'C']\n",
    "gMaj = ['F', 'G', 'C']\n",
    "\n",
    "s = stream.Stream()\n",
    "\n",
    "for i in range(0, len(n10)):\n",
    "    for j in range(0, len(gMaj)):\n",
    "        if n10[i] == gMaj[j]:\n",
    "            print('Note ='+gMaj[j])\n",
    "            s.append(note.Note(gMaj[j]+'#'+'5'))\n",
    "    else:\n",
    "        s.append(note.Note(n10[i]+'5'))\n",
    "    \n",
    "def EmbedSound(path):\n",
    "    mf = midi.MidiFile()\n",
    "    mf.open(path) \n",
    "    mf.read()\n",
    "    mf.close()\n",
    "    s = midi.translate.midiFileToStream(mf)\n",
    "    s.show('midi')\n",
    "    \n",
    "# The name of the file\n",
    "\n",
    "fileName = 'test.midi'\n",
    "\n",
    "s.write('midi', fp=fileName)\n",
    "\n",
    "EmbedSound(fileName)"
   ]
  },
  {
   "cell_type": "code",
   "execution_count": 21,
   "id": "fc9a4899",
   "metadata": {},
   "outputs": [
    {
     "data": {
      "text/html": [
       "\n",
       "                <div id=\"midiPlayerDiv10836\"></div>\n",
       "                <link rel=\"stylesheet\" href=\"//cuthbertLab.github.io/music21j/css/m21.css\"\n",
       "                    type=\"text/css\" />\n",
       "                \n",
       "                <script>\n",
       "                require.config({\n",
       "                    paths: {'music21': '//cuthbertLab.github.io/music21j/src/music21'}\n",
       "                });\n",
       "                require(['music21'], function() {\n",
       "                               mp = new music21.miditools.MidiPlayer();\n",
       "                               mp.addPlayer(\"#midiPlayerDiv10836\");\n",
       "                               mp.base64Load(\"data:audio/midi;base64,TVRoZAAAAAYAAQACBABNVHJrAAAAFAD/UQMHoSAA/1gEBAIYCIgA/y8ATVRyawAAAD4A/wMAAOAAQADAAIgAkBpaiACAGgAAkBpaiACAGgAAkBxaiACAHAAAkBpaiACAGgAAkB1aiACAHQCIAP8vAA==\");\n",
       "                        });\n",
       "                </script>"
      ],
      "text/plain": [
       "<IPython.core.display.HTML object>"
      ]
     },
     "metadata": {},
     "output_type": "display_data"
    }
   ],
   "source": [
    "n11 = ['D', 'D', 'E', 'D', 'F']\n",
    "\n",
    "\n",
    "s = stream.Stream()\n",
    "for i in range (0,len(n11)):\n",
    "    s.append(note.Note(n11[i]+'1'))\n",
    "    \n",
    "def EmbedSound(path):\n",
    "    mf = midi.MidiFile()\n",
    "    mf.open(path) \n",
    "    mf.read()\n",
    "    mf.close()\n",
    "    s = midi.translate.midiFileToStream(mf)\n",
    "    s.show('midi')\n",
    "    \n",
    "# The name of the file\n",
    "\n",
    "fileName = 'test4.midi'\n",
    "\n",
    "s.write('midi', fp=fileName)\n",
    "\n",
    "EmbedSound(fileName)\n",
    "    \n",
    "    "
   ]
  },
  {
   "cell_type": "code",
   "execution_count": 31,
   "id": "34bfbb9b",
   "metadata": {},
   "outputs": [
    {
     "data": {
      "text/html": [
       "\n",
       "                <div id=\"midiPlayerDiv13829\"></div>\n",
       "                <link rel=\"stylesheet\" href=\"//cuthbertLab.github.io/music21j/css/m21.css\"\n",
       "                    type=\"text/css\" />\n",
       "                \n",
       "                <script>\n",
       "                require.config({\n",
       "                    paths: {'music21': '//cuthbertLab.github.io/music21j/src/music21'}\n",
       "                });\n",
       "                require(['music21'], function() {\n",
       "                               mp = new music21.miditools.MidiPlayer();\n",
       "                               mp.addPlayer(\"#midiPlayerDiv13829\");\n",
       "                               mp.base64Load(\"data:audio/midi;base64,TVRoZAAAAAYAAQACBABNVHJrAAAAFAD/UQMHoSAA/1gEBAIYCIgA/y8ATVRyawAAAIYA/wMAAOAAQADAAIgAkExaAJBNWgCQSloAkBpaiACATAAAgE0AAIBKAACAGgAAkE1aAJBPWgCQTVoAkBpaiACATQAAgE8AAIBNAACAGgAAkEpaAJBKWgCQTVoAkBxaiACASgAAgEoAAIBNAACAHAAAkBpaiACAGgAAkB1aiACAHQCIAP8vAA==\");\n",
       "                        });\n",
       "                </script>"
      ],
      "text/plain": [
       "<IPython.core.display.HTML object>"
      ]
     },
     "metadata": {},
     "output_type": "display_data"
    }
   ],
   "source": [
    "n11 = ['D', 'D', 'E', 'D', 'F']\n",
    "\n",
    "s = stream.Stream()\n",
    "for i in range (0,len(n11)):\n",
    "    s.append(note.Note(n11[i]+'1'))\n",
    "\n",
    "n11 = ['E5 F5 D5', 'F5 G5 F5', 'D5 D5 F5']\n",
    "\n",
    "s1 = stream.Stream()\n",
    "for i in range (0,len(n11)):\n",
    "    s1.append(chord.Chord(n11[i]))\n",
    "    \n",
    "def EmbedSound(path):\n",
    "    mf = midi.MidiFile()\n",
    "    mf.open(path) \n",
    "    mf.read()\n",
    "    mf.close()\n",
    "    s1 = midi.translate.midiFileToStream(mf)\n",
    "    s1.show('midi')\n",
    "    \n",
    "# The name of the file\n",
    "\n",
    "s2 = s1+s\n",
    "\n",
    "fileName = 'test4.midi'\n",
    "\n",
    "s2.write('midi', fp=fileName)\n",
    "\n",
    "EmbedSound(fileName)"
   ]
  },
  {
   "cell_type": "code",
   "execution_count": null,
   "id": "6198bd19",
   "metadata": {},
   "outputs": [],
   "source": []
  }
 ],
 "metadata": {
  "kernelspec": {
   "display_name": "Python 3 (ipykernel)",
   "language": "python",
   "name": "python3"
  },
  "language_info": {
   "codemirror_mode": {
    "name": "ipython",
    "version": 3
   },
   "file_extension": ".py",
   "mimetype": "text/x-python",
   "name": "python",
   "nbconvert_exporter": "python",
   "pygments_lexer": "ipython3",
   "version": "3.11.0"
  }
 },
 "nbformat": 4,
 "nbformat_minor": 5
}
