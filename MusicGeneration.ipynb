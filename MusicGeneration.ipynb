{
 "cells": [
  {
   "cell_type": "markdown",
   "id": "dd2eed26",
   "metadata": {},
   "source": [
    "# Music Generation"
   ]
  },
  {
   "cell_type": "markdown",
   "id": "f4e760ae",
   "metadata": {},
   "source": [
    "\n",
    "\n"
   ]
  },
  {
   "cell_type": "code",
   "execution_count": 1,
   "id": "370cce40",
   "metadata": {},
   "outputs": [],
   "source": [
    "from music21 import *\n",
    "import numpy as tg\n",
    "from IPython.display import Audio\n",
    "'''\n",
    "Play this code \"chunk\" because it has all data for the other chunks of input\n",
    "\n",
    "'''\n",
    "\n",
    "# Name the file that generates music (music file is found where this program file is located)\n",
    "fileName = \"Test\"\n",
    "\n",
    "# Plays audio in jupyter\n",
    "def EmbedSound(path):\n",
    "    mf = midi.MidiFile()\n",
    "    mf.open(path) \n",
    "    mf.read()\n",
    "    mf.close()\n",
    "    s = midi.translate.midiFileToStream(mf)\n",
    "    s.show('midi')"
   ]
  },
  {
   "cell_type": "code",
   "execution_count": 8,
   "id": "26ce13ef",
   "metadata": {},
   "outputs": [
    {
     "data": {
      "text/html": [
       "\n",
       "                <div id=\"midiPlayerDiv4576\"></div>\n",
       "                <link rel=\"stylesheet\" href=\"//cuthbertLab.github.io/music21j/css/m21.css\"\n",
       "                    type=\"text/css\" />\n",
       "                \n",
       "                <script>\n",
       "                require.config({\n",
       "                    paths: {'music21': '//cuthbertLab.github.io/music21j/src/music21'}\n",
       "                });\n",
       "                require(['music21'], function() {\n",
       "                               mp = new music21.miditools.MidiPlayer();\n",
       "                               mp.addPlayer(\"#midiPlayerDiv4576\");\n",
       "                               mp.base64Load(\"data:audio/midi;base64,TVRoZAAAAAYAAQACBABNVHJrAAAAFAD/UQMHoSAA/1gEBAIYCIgA/y8ATVRyawAAAKAA/wMGVmlvbGluAMAoAOAAQADAKIgAkDxaiACAPAAAkEhaAJBMWgCQT1qIAIBIAACATAAAgE8AAJBIWgCQTVoAkFFaiACASAAAgE0AAIBRAACQSFoAkExaAJBPWogAgEgAAIBMAACATwAAkEhaAJBKWgCQTVqIAIBIAACASgAAgE0AAJBIWgCQTFoAkE9aiACASAAAgEwAAIBPAIgA/y8A\");\n",
       "                        });\n",
       "                </script>"
      ],
      "text/plain": [
       "<IPython.core.display.HTML object>"
      ]
     },
     "metadata": {},
     "output_type": "display_data"
    }
   ],
   "source": [
    "up2 = note.Unpitched()\n",
    "up2.storedInstrument = instrument.Violin()\n",
    "s = stream.Stream()\n",
    "s.append(up2)\n",
    "\n",
    "myChord = [chord.Chord('C5 E5 G5'), chord.Chord('C5 F5 A5'), chord.Chord('C5 E5 G5'), \n",
    "           chord.Chord('C5 D5 F5'), chord.Chord('C5 E5 G5')]\n",
    "\n",
    "for i in range(0,len(myChord)):\n",
    "    s.append(myChord[i])\n",
    "\n",
    "s2 = instrument.unbundleInstruments(s)\n",
    "\n",
    "s2.write('midi', fp=fileName) # Midi file has default piano sound\n",
    "\n",
    "EmbedSound(fileName)"
   ]
  },
  {
   "cell_type": "code",
   "execution_count": 2,
   "id": "a9be889f",
   "metadata": {},
   "outputs": [
    {
     "name": "stdout",
     "output_type": "stream",
     "text": [
      "Music file of Test:\n"
     ]
    },
    {
     "data": {
      "text/html": [
       "\n",
       "                <div id=\"midiPlayerDiv1087\"></div>\n",
       "                <link rel=\"stylesheet\" href=\"//cuthbertLab.github.io/music21j/css/m21.css\"\n",
       "                    type=\"text/css\" />\n",
       "                \n",
       "                <script>\n",
       "                require.config({\n",
       "                    paths: {'music21': '//cuthbertLab.github.io/music21j/src/music21'}\n",
       "                });\n",
       "                require(['music21'], function() {\n",
       "                               mp = new music21.miditools.MidiPlayer();\n",
       "                               mp.addPlayer(\"#midiPlayerDiv1087\");\n",
       "                               mp.base64Load(\"data:audio/midi;base64,TVRoZAAAAAYAAQACBABNVHJrAAAAFAD/UQMHoSAA/1gEBAIYCIgA/y8ATVRyawAABBIA/wMAAOAAQADAAIgAkHNaAJBzWgCQeloAkHVaAJBKWoQAgHMAAIBzAACAegAAgHUAAIBKAACQc1oAkHNaAJB6WgCQdVoAkEpahACAcwAAgHMAAIB6AACAdQAAgEoAAJBzWgCQc1oAkHpaAJB1WgCQTFqIAIBzAACAcwAAgHoAAIB1AACATAAAkHNaAJBzWgCQeloAkHVaAJBKWogAgHMAAIBzAACAegAAgHUAAIBKAACQc1oAkHNaAJB6WgCQdVoAkE9aiACAcwAAgHMAAIB6AACAdQAAgE8AAJBzWgCQQloAkD5aAJB1WgCQTlqQAIBzAACAQgAAgD4AAIB1AACATgAAkHNaAJBzWgCQeloAkHVaAJBKWoQAgHMAAIBzAACAegAAgHUAAIBKAACQc1oAkHNaAJB6WgCQdVoAkEpahACAcwAAgHMAAIB6AACAdQAAgEoAAJBzWgCQc1oAkHpaAJB1WgCQTFqIAIBzAACAcwAAgHoAAIB1AACATAAAkHNaAJBzWgCQeloAkHVaAJBKWogAgHMAAIBzAACAegAAgHUAAIBKAACQc1oAkHNaAJB6WgCQdVoAkFFaiACAcwAAgHMAAIB6AACAdQAAgFEAAJBzWgCQQ1oAkD5aAJB6WgCQT1qQAIBzAACAQwAAgD4AAIB6AACATwAAkHNaAJBzWgCQeloAkHVaAJBKWoQAgHMAAIBzAACAegAAgHUAAIBKAACQc1oAkHNaAJB6WgCQdVoAkEpahACAcwAAgHMAAIB6AACAdQAAgEoAAJBzWgCQQ1oAkDtaAJBzWgCQVlqIAIBzAACAQwAAgDsAAIBzAACAVgAAkHNaAJBzWgCQeloAkHVaAJBTWogAgHMAAIBzAACAegAAgHUAAIBTAACQc1oAkHNaAJB6WgCQdVoAkE9aiACAcwAAgHMAAIB6AACAdQAAgE8AAJBzWgCQQloAkDxaAJBzWgCQTlqIAIBzAACAQgAAgDwAAIBzAACATgAAkHNaAJA8WgCQNloAkHxaAJBMWpAAgHMAAIA8AACANgAAgHwAAIBMAACQYFoAkHNaAJB6WgCQdVoAkFRahACAYAAAgHMAAIB6AACAdQAAgFQAAJBgWgCQc1oAkHpaAJB1WgCQVFqEAIBgAACAcwAAgHoAAIB1AACAVAAAkF9aAJA+WgCQO1oAkHVaAJBTWogAgF8AAIA+AACAOwAAgHUAAIBTAACQW1oAkD5aAJA7WgCQeloAkE9aiACAWwAAgD4AAIA7AACAegAAgE8AAJBdWgCQQloAkDxaAJB1WgCQUVqIAIBdAACAQgAAgDwAAIB1AACAUQAAkFtaAJBDWgCQO1oAkE9aAJBPWogAgFsAAIBDAACAOwAAgE8AAIBPAIgA/y8A\");\n",
       "                        });\n",
       "                </script>"
      ],
      "text/plain": [
       "<IPython.core.display.HTML object>"
      ]
     },
     "metadata": {},
     "output_type": "display_data"
    }
   ],
   "source": [
    "\n",
    "'''\n",
    "This program plays the happy birthday song by playing notes from different streams simultaneously\n",
    "'''\n",
    "\n",
    "octa = 5\n",
    "nextOcta = 6\n",
    "\n",
    "# Append notes in main octave\n",
    "myNotes = [\n",
    "       'D'+str(octa), .5, 'D'+str(octa), .5, 'E'+str(octa), 1, 'D'+str(octa), 1, 'G'+str(octa), 1, 'F#'+str(octa), 2, \n",
    "       'D'+str(octa), .5, 'D'+str(octa), .5, 'E'+str(octa), 1, 'D'+str(octa), 1, 'A'+str(octa), 1, 'G'+str(octa), 2,\n",
    "       'D'+str(octa), .5, 'D'+str(octa), .5, 'D'+str(nextOcta), 1, 'B'+str(octa), 1, 'G'+str(octa), 1, 'F#'+str(octa), 1,\n",
    "       'E'+str(octa), 2, 'C'+str(nextOcta), .5, 'C'+str(nextOcta), .5, 'B'+str(octa), 1, 'G'+str(octa), 1, 'A'+str(octa), 1,\n",
    "       'G'+str(octa), 1\n",
    "]\n",
    "\n",
    "# Append notes in next octave\n",
    "myOtherNotes = [\n",
    "       'G11'+str(octa), .5, 'G11'+str(octa), .5, 'G11'+str(octa), 1, 'G11'+str(octa), 1, 'G11'+str(octa), 1, 'G11'+str(octa), 2, \n",
    "       'G11'+str(octa), .5, 'G11'+str(octa), .5, 'G11'+str(octa), 1, 'G11'+str(octa), 1, 'G11'+str(octa), 1, 'G11'+str(octa), 2,\n",
    "       'G11'+str(octa), .5, 'G11'+str(octa), .5, 'G11'+str(nextOcta), 1, 'G11'+str(octa), 1, 'G11'+str(octa), 1, 'G11'+str(octa), 1,\n",
    "       'G11'+str(octa), 2, 'C'+str(nextOcta+1), .5, 'C'+str(nextOcta+1), .5, 'B'+str(octa+1), 1, 'G'+str(octa+1), 1, 'A'+str(octa+1), 1,\n",
    "       'G'+str(octa+1), 1\n",
    "]\n",
    "\n",
    "# Append all chords\n",
    "myChords = [\n",
    "       'G11 D11 A11'+str(octa), .5, 'G11 D11 A11'+str(octa), .5, 'G11 D11 A11'+str(octa), 1, 'G11 D11 A11'+str(octa), 1, 'G11 D11 A11'+str(octa), 1, 'F#4 D4 A4'+str(octa), 2, \n",
    "       'G11 D11 A11'+str(octa), .5, 'G11 D11 A11'+str(octa), .5, 'G11 D11 A11'+str(octa), 1, 'G11 D11 A11'+str(octa), 1, 'G11 D11 A11'+str(octa), 1, 'G4 D4 D4'+str(octa), 2,\n",
    "       'G11 D11 A11'+str(octa), .5, 'G11 D11 A11'+str(octa), .5, 'G4 B3 G3'+str(nextOcta), 1, 'G11 D11 A11'+str(octa), 1, 'G11 D11 A11'+str(octa), 1, 'F#4 C4 G3'+str(octa), 1,\n",
    "       'C4 F#3 E3'+str(octa), 2, 'G11 D11 A11'+str(nextOcta), .5, 'G11 D11 A11'+str(nextOcta), .5, 'D4 B3 A3'+str(octa), 1, 'D4 B3 D3'+str(octa), 1, 'F#4 C4 A3'+str(octa), 1,\n",
    "       'G4 B3 G'+str(octa), 1\n",
    "]\n",
    "\n",
    "# Create stream\n",
    "s1 = stream.Stream()\n",
    "s2 = stream.Stream()\n",
    "s3 = stream.Stream()\n",
    "\n",
    "for i in range (0,len(myNotes)-1,2):\n",
    "    s1.append(chord.Chord(myChords[i], quarterLength = myChords[i+1]))\n",
    "    s2.append(note.Note(myNotes[i], quarterLength = myNotes[i+1]))\n",
    "    s3.append(note.Note(myOtherNotes[i], quarterLength = myNotes[i+1]))\n",
    "\n",
    "# Run streams concurrently\n",
    "s3 += s1+s2\n",
    "\n",
    "s3.write('midi', fp=fileName)\n",
    "\n",
    "# Display file name\n",
    "print(\"Music file of \"+fileName+\":\")\n",
    "\n",
    "# Display create file in Jupyter notebook\n",
    "EmbedSound(fileName)"
   ]
  },
  {
   "cell_type": "code",
   "execution_count": 10,
   "id": "e9301dea",
   "metadata": {},
   "outputs": [
    {
     "name": "stdout",
     "output_type": "stream",
     "text": [
      "Music file of Test:\n"
     ]
    },
    {
     "data": {
      "text/html": [
       "\n",
       "                <div id=\"midiPlayerDiv6513\"></div>\n",
       "                <link rel=\"stylesheet\" href=\"//cuthbertLab.github.io/music21j/css/m21.css\"\n",
       "                    type=\"text/css\" />\n",
       "                \n",
       "                <script>\n",
       "                require.config({\n",
       "                    paths: {'music21': '//cuthbertLab.github.io/music21j/src/music21'}\n",
       "                });\n",
       "                require(['music21'], function() {\n",
       "                               mp = new music21.miditools.MidiPlayer();\n",
       "                               mp.addPlayer(\"#midiPlayerDiv6513\");\n",
       "                               mp.base64Load(\"data:audio/midi;base64,TVRoZAAAAAYAAQACBABNVHJrAAAAFAD/UQMHoSAA/1gEBAIYCIgA/y8ATVRyawAAAVUA/wMAAOAAQADAAIgAkFRaiACAVAAAkFlaiACAWQAAkF9aiACAXwAAkFtaiACAWwAAkFZaiACAVgAAkFRahACAVAAAkFZahACAVgAAkFhahACAWAAAkFlahACAWQAAkFtahACAWwAAkF1ahACAXQAAkF9ahACAXwAAkF9ahACAXwAAkF1ahACAXQAAkFtahACAWwAAkFlahACAWQAAkFhahACAWAAAkFZahACAVgAAkGBaiACAYAAAkGVaiACAZQAAkGtaiACAawAAkGdaiACAZwAAkGJaiACAYgAAkGBahACAYAAAkGJahACAYgAAkGRahACAZAAAkGVahACAZQAAkGdahACAZwAAkGlahACAaQAAkGtahACAawAAkGtahACAawAAkGlahACAaQAAkGdahACAZwAAkGVahACAZQAAkGRahACAZAAAkGJahACAYgCIAP8vAA==\");\n",
       "                        });\n",
       "                </script>"
      ],
      "text/plain": [
       "<IPython.core.display.HTML object>"
      ]
     },
     "metadata": {},
     "output_type": "display_data"
    },
    {
     "data": {
      "text/plain": [
       "'\\nPressing \"Shift+Enter\" to run Program\\n'"
      ]
     },
     "execution_count": 10,
     "metadata": {},
     "output_type": "execute_result"
    }
   ],
   "source": [
    "'''\n",
    "The project is based on generating music based on user input\n",
    "User decides what songs they want to choose from\n",
    "So as you know each song has individual notes that are played\n",
    "This program creates individual notes into a midi file sequentially\n",
    "That midi file is basically the song that you can listen two\n",
    "'''\n",
    "\n",
    "\n",
    "n2 = [note.Note('F5'), note.Note('A5'), note.Note('C5'), note.Note('F6'), note.Note('A5'), \n",
    "      note.Note('C5'), note.Note('F5'), note.Note('A5')]\n",
    "\n",
    "s = stream.Stream()\n",
    "\n",
    "def CheckDuration():\n",
    "    n2[len(n2)-1] = duration.Duration(2)\n",
    "    canChangeDuration = False;\n",
    "    for i in range(0,len(n2)): # Check if duration is 2\n",
    "        if n2[i] == duration.Duration(2):\n",
    "            s.append(chord.Chord('C'+str(i)+' E'+str(i)+ ' G5'+str(i)))\n",
    "        else:\n",
    "            s.append(n2[i])\n",
    "            \n",
    "def ChordLoop(min, max):\n",
    "    for i in range(min,max): #Loops through all notes in 'n2' and puts in stream to be written to midi file\n",
    "        s.append(chord.Chord('C'+str(i)+' E'+str(i)+ ' G5'+str(i)))\n",
    "        \n",
    "def NoteLoop(pitch, duration, traversal):\n",
    "    for i in range(pitch[0],pitch[1]): #Loops through all notes in 'n2' and puts in stream to be written to midi file\n",
    "        n3 = note.Note('C5')\n",
    "        n3.storedInstrument = instrument.Violin()\n",
    "        n3 = ['C', 'D', 'E', 'F', 'G', 'A', 'B',\n",
    "              'B', 'A', 'G', 'F', 'E', 'D', 'C']\n",
    "        for j in range(0,len(n3),traversal[0]):\n",
    "            s.append(note.Note(n3[j]+str(i), quarterLength = duration[0]))\n",
    "        \n",
    "        if n3 == note.Note('C2'): # condition to check for c notes \"if c note then append another note\"\n",
    "            print(\"C det\")\n",
    "        else:\n",
    "            if j == len(n3)-1:\n",
    "                s.append(note.Note(n3[0]+str(i+1)))\n",
    "            for k in range(len(n3)-1,0,-traversal[1]):\n",
    "                s.append(note.Note(n3[k]+str(i), quarterLength = duration[1]))\n",
    "            \n",
    "# Plays audio in jupyter\n",
    "    \n",
    "# Traversal\n",
    "traversal = [3,1] # Values to traverse through notes on a scale\n",
    "\n",
    "# Duration\n",
    "duration = [1,.5] # High durations like 2 or 3 play notes for longer and shorter durations like .5 or .3 play eac\n",
    "\n",
    "# Pitch\n",
    "lowPitch = [2,4]\n",
    "medPitch = [6,8]\n",
    "highPitch = [7,8] \n",
    "            \n",
    "NoteLoop(medPitch, duration, traversal) \n",
    "\n",
    "# Display file name\n",
    "print(\"Music file of \"+fileName+\":\")\n",
    "\n",
    "s.write('midi', fp=fileName) # Midi file has default piano sound\n",
    "\n",
    "EmbedSound(fileName)\n",
    "\n",
    "\n",
    "'''\n",
    "Pressing \"Shift+Enter\" to run Program\n",
    "'''"
   ]
  },
  {
   "cell_type": "code",
   "execution_count": null,
   "id": "bafe4a0c",
   "metadata": {},
   "outputs": [],
   "source": []
  }
 ],
 "metadata": {
  "kernelspec": {
   "display_name": "Python 3 (ipykernel)",
   "language": "python",
   "name": "python3"
  },
  "language_info": {
   "codemirror_mode": {
    "name": "ipython",
    "version": 3
   },
   "file_extension": ".py",
   "mimetype": "text/x-python",
   "name": "python",
   "nbconvert_exporter": "python",
   "pygments_lexer": "ipython3",
   "version": "3.11.0"
  }
 },
 "nbformat": 4,
 "nbformat_minor": 5
}
